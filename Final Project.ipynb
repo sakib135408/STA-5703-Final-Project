{
 "cells": [
  {
   "cell_type": "code",
   "execution_count": 114,
   "id": "6f5a9fed",
   "metadata": {},
   "outputs": [],
   "source": [
    "import pandas as pd"
   ]
  },
  {
   "cell_type": "code",
   "execution_count": 115,
   "id": "79f5dd3a",
   "metadata": {},
   "outputs": [],
   "source": [
    "event_df=pd.read_csv('event.csv')"
   ]
  },
  {
   "cell_type": "code",
   "execution_count": 116,
   "id": "e38eca69",
   "metadata": {},
   "outputs": [],
   "source": [
    "driver_df=pd.read_csv('driver.csv', low_memory=False)"
   ]
  },
  {
   "cell_type": "code",
   "execution_count": 117,
   "id": "0fda3f2c",
   "metadata": {},
   "outputs": [],
   "source": [
    "vehicle_df=pd.read_csv('vehicle.csv', low_memory=False)"
   ]
  },
  {
   "cell_type": "code",
   "execution_count": 118,
   "id": "25f05156",
   "metadata": {},
   "outputs": [],
   "source": [
    "# set options for maximum view of dataframe\n",
    "pd.set_option('display.max_rows', 500)\n",
    "pd.set_option('display.max_columns', 500)\n",
    "pd.set_option('display.width', 1000)"
   ]
  },
  {
   "cell_type": "code",
   "execution_count": 120,
   "id": "47c42312",
   "metadata": {},
   "outputs": [
    {
     "data": {
      "text/plain": [
       "742119"
      ]
     },
     "execution_count": 120,
     "metadata": {},
     "output_type": "execute_result"
    }
   ],
   "source": [
    "len(event_df.REPORT_NUMBER.unique())"
   ]
  },
  {
   "cell_type": "code",
   "execution_count": 121,
   "id": "f88d01d1",
   "metadata": {},
   "outputs": [
    {
     "data": {
      "text/plain": [
       "722761"
      ]
     },
     "execution_count": 121,
     "metadata": {},
     "output_type": "execute_result"
    }
   ],
   "source": [
    "len(driver_df.REPORT_NUMBER.unique())"
   ]
  },
  {
   "cell_type": "code",
   "execution_count": 122,
   "id": "baec37ff",
   "metadata": {},
   "outputs": [
    {
     "data": {
      "text/plain": [
       "742119"
      ]
     },
     "execution_count": 122,
     "metadata": {},
     "output_type": "execute_result"
    }
   ],
   "source": [
    "len(vehicle_df.REPORT_NUMBER.unique())"
   ]
  },
  {
   "cell_type": "code",
   "execution_count": 123,
   "id": "c5fae39c",
   "metadata": {},
   "outputs": [
    {
     "data": {
      "text/plain": [
       "INTERSTATE 4 (STATE ROAD 400)    12093\n",
       "SR 436                            5643\n",
       "US 441                            5399\n",
       "INTERSTATE 95 (STATE ROAD 9)      4148\n",
       "W VINE ST                         3388\n",
       "                                 ...  \n",
       "US 1 (S WASHINGTON AVE)              1\n",
       "SR 500 ABSHIER BLVD                  1\n",
       "TIJUANA FLATTS                       1\n",
       "CASTELVEN DR                         1\n",
       "INSTERSTATE 75 SB                    1\n",
       "Name: ON_STREET_ROAD_HIGHWAY, Length: 108829, dtype: int64"
      ]
     },
     "execution_count": 123,
     "metadata": {},
     "output_type": "execute_result"
    }
   ],
   "source": [
    "event_df['ON_STREET_ROAD_HIGHWAY'].value_counts()"
   ]
  },
  {
   "cell_type": "code",
   "execution_count": 124,
   "id": "c2400768",
   "metadata": {},
   "outputs": [],
   "source": [
    "# Considering crash occuring on Interstates only\n",
    "options = ['Interstate'] \n",
    "    \n",
    "# selecting rows based on condition \n",
    "event_df = event_df[event_df['ROAD_SYSTEM_IDENTIFER'].isin(options)] "
   ]
  },
  {
   "cell_type": "code",
   "execution_count": 125,
   "id": "c6f649a6",
   "metadata": {},
   "outputs": [
    {
     "data": {
      "text/plain": [
       "57859"
      ]
     },
     "execution_count": 125,
     "metadata": {},
     "output_type": "execute_result"
    }
   ],
   "source": [
    "len(event_df.REPORT_NUMBER.unique())"
   ]
  },
  {
   "cell_type": "code",
   "execution_count": 127,
   "id": "cc359109",
   "metadata": {},
   "outputs": [
    {
     "data": {
      "text/plain": [
       "Passenger Car                                            773753\n",
       "(Sport) Utility Vehicle                                  280355\n",
       "Pickup                                                   168083\n",
       "Passenger Van                                             63087\n",
       "Medium/Heavy Trucks (more than 10,000 lbs (4,536 kg))     38175\n",
       "Unknown                                                   20259\n",
       "Other Light Trucks (10,000 lbs (4,536 kg) or less)        16551\n",
       "Motorcycle                                                15495\n",
       "Cargo Van (10,000 lbs (4,536 kg) or less)                 11417\n",
       "Bus                                                        7137\n",
       "Other                                                      5739\n",
       "Low Speed Vehicle                                          1678\n",
       "Moped                                                      1068\n",
       "Motor Home                                                  999\n",
       "All Terrain Vehicle (ATV)                                   768\n",
       "Motor Coach                                                 631\n",
       "Farm Labor Vehicle                                          218\n",
       "Name: TYPE_OF_VEHICLE, dtype: int64"
      ]
     },
     "execution_count": 127,
     "metadata": {},
     "output_type": "execute_result"
    }
   ],
   "source": [
    "vehicle_df['TYPE_OF_VEHICLE'].value_counts()"
   ]
  },
  {
   "cell_type": "code",
   "execution_count": 128,
   "id": "7a540cb0",
   "metadata": {},
   "outputs": [],
   "source": [
    "options1 = ['Passenger Car','(Sport) Utility Vehicle','Pickup','Passenger Van','Medium/Heavy Trucks (more than 10,000 lbs (4,536 kg))','Other Light Trucks (10,000 lbs (4,536 kg) or less)','Cargo Van (10,000 lbs (4,536 kg) or less)','Bus'] \n",
    "    \n",
    "# selecting rows based on condition \n",
    "vehicle_df_final = vehicle_df[vehicle_df['TYPE_OF_VEHICLE'].isin(options1)] "
   ]
  },
  {
   "cell_type": "code",
   "execution_count": 129,
   "id": "e111b3f3",
   "metadata": {},
   "outputs": [
    {
     "data": {
      "text/plain": [
       "723036"
      ]
     },
     "execution_count": 129,
     "metadata": {},
     "output_type": "execute_result"
    }
   ],
   "source": [
    "len(vehicle_df_final.REPORT_NUMBER.unique())"
   ]
  },
  {
   "cell_type": "code",
   "execution_count": 132,
   "id": "d6dcc8ab",
   "metadata": {},
   "outputs": [
    {
     "data": {
      "text/plain": [
       "None                      1052483\n",
       "Possible                   145583\n",
       "Non-Incapacitating          66500\n",
       "Incapacitating              17722\n",
       "Fatal (within 30 days)       2396\n",
       "Non-Traffic Fatality          266\n",
       "Name: INJURY_SEVERITY, dtype: int64"
      ]
     },
     "execution_count": 132,
     "metadata": {},
     "output_type": "execute_result"
    }
   ],
   "source": [
    "driver_df['INJURY_SEVERITY'].value_counts()"
   ]
  },
  {
   "cell_type": "code",
   "execution_count": 133,
   "id": "f9973995",
   "metadata": {},
   "outputs": [
    {
     "data": {
      "text/plain": [
       "dtype('O')"
      ]
     },
     "execution_count": 133,
     "metadata": {},
     "output_type": "execute_result"
    }
   ],
   "source": [
    "driver_df['INJURY_SEVERITY'].dtypes"
   ]
  },
  {
   "cell_type": "code",
   "execution_count": 134,
   "id": "29426469",
   "metadata": {},
   "outputs": [],
   "source": [
    "driver_df=driver_df[~driver_df['INJURY_SEVERITY'].isin(['None','Non-Traffic Fatality'])]"
   ]
  },
  {
   "cell_type": "code",
   "execution_count": 135,
   "id": "a4cf194c",
   "metadata": {},
   "outputs": [
    {
     "data": {
      "text/plain": [
       "Possible                  145583\n",
       "Non-Incapacitating         66500\n",
       "Incapacitating             17722\n",
       "Fatal (within 30 days)      2396\n",
       "Name: INJURY_SEVERITY, dtype: int64"
      ]
     },
     "execution_count": 135,
     "metadata": {},
     "output_type": "execute_result"
    }
   ],
   "source": [
    "driver_df['INJURY_SEVERITY'].value_counts()"
   ]
  },
  {
   "cell_type": "code",
   "execution_count": 136,
   "id": "2b64a868",
   "metadata": {},
   "outputs": [],
   "source": [
    "injury = {'Possible': 'not_serious', 'Non-Incapacitating': 'not_serious', 'Incapacitating': 'serious',\n",
    "          'Fatal (within 30 days)': 'serious'}\n",
    "driver_df['INJURY_SEVERITY'] = driver_df['INJURY_SEVERITY'].map(injury)"
   ]
  },
  {
   "cell_type": "code",
   "execution_count": 137,
   "id": "ccbf3d84",
   "metadata": {},
   "outputs": [
    {
     "data": {
      "text/plain": [
       "not_serious    212083\n",
       "serious         20118\n",
       "Name: INJURY_SEVERITY, dtype: int64"
      ]
     },
     "execution_count": 137,
     "metadata": {},
     "output_type": "execute_result"
    }
   ],
   "source": [
    "driver_df['INJURY_SEVERITY'].value_counts()"
   ]
  },
  {
   "cell_type": "code",
   "execution_count": 140,
   "id": "20bbb11f",
   "metadata": {},
   "outputs": [],
   "source": [
    "unique_report_number = list(event_df.REPORT_NUMBER.unique())"
   ]
  },
  {
   "cell_type": "code",
   "execution_count": 141,
   "id": "02409601",
   "metadata": {},
   "outputs": [
    {
     "data": {
      "text/plain": [
       "57859"
      ]
     },
     "execution_count": 141,
     "metadata": {},
     "output_type": "execute_result"
    }
   ],
   "source": [
    "len(unique_report_number)"
   ]
  },
  {
   "cell_type": "code",
   "execution_count": 142,
   "id": "aa07280d",
   "metadata": {},
   "outputs": [],
   "source": [
    "driver_df=driver_df[driver_df.REPORT_NUMBER.isin(unique_report_number)]"
   ]
  },
  {
   "cell_type": "code",
   "execution_count": 100,
   "id": "950cc776",
   "metadata": {},
   "outputs": [],
   "source": [
    "# vehicle_df=vehicle_df[vehicle_df.REPORT_NUMBER.isin(unique_report_number)]"
   ]
  },
  {
   "cell_type": "code",
   "execution_count": 101,
   "id": "47538a55",
   "metadata": {},
   "outputs": [],
   "source": [
    "# vehicle_df.reset_index(drop=True)"
   ]
  },
  {
   "cell_type": "code",
   "execution_count": 102,
   "id": "47e6fe3b",
   "metadata": {},
   "outputs": [],
   "source": [
    "vehicle_df=vehicle_df[['REPORT_NUMBER','CRASH_YEAR','VEHICLE_NUMBER','VEHICLE_YEAR','ESTIMATED_MPH','POSTED_SPEED','TYPE_OF_VEHICLE','TRAFFICWAY_CODE', 'ROADWAY_ALIGNMENT_CODE', 'VEHICLE_MANEUVER_ACTION', 'TRAFFIC_CONTROL_DEVICE']]"
   ]
  },
  {
   "cell_type": "code",
   "execution_count": 104,
   "id": "95a22575",
   "metadata": {},
   "outputs": [],
   "source": [
    "#driver_event_df = driver_df.merge(event_df, how='left', on='REPORT_NUMBER')\n"
   ]
  },
  {
   "cell_type": "code",
   "execution_count": 105,
   "id": "4148217b",
   "metadata": {
    "scrolled": false
   },
   "outputs": [],
   "source": [
    "#driver_event_df"
   ]
  },
  {
   "cell_type": "code",
   "execution_count": 106,
   "id": "9b884db5",
   "metadata": {},
   "outputs": [],
   "source": [
    "driver_df = driver_df[['REPORT_NUMBER','CRASH_YEAR','VEHICLE_NUMBER','PERSON_NUMBER','SEX','RESTRAINT_SYSTEM_CODE','SUSPECTED_ALCOHOL_USE_CODE','SUSPECTED_DRUG_USE_CODE','INJURY_SEVERITY','S4_AGE_AT_TIME_OF_CRASH','S4_IS_AGGRESSIVE_DRIVING','S4_IS_ALCOHOL_RELATED','S4_IS_DRUG_RELATED','S4_IS_SPEEDING_RELATED']]"
   ]
  },
  {
   "cell_type": "code",
   "execution_count": 109,
   "id": "ccf5dade",
   "metadata": {},
   "outputs": [],
   "source": [
    "event_df = event_df[['REPORT_NUMBER','TOTAL_NUMBER_OF_VEHICLES','CRASH_YEAR','CRASH_DATE_AND_TIME','RURAL_OR_URBAN','ON_STREET_ROAD_HIGHWAY', 'LATITUDE','LONGITUDE','TYPE_OF_SHOULDER', 'LIGHT_CONDITION','TYPE_OF_INTERSECTION','WEATHER_CONDITION', 'ROAD_SURFACE_CONDITION','TYPE_OF_IMPACT','JUNCTION_FLAG','S4_DAY_OR_NIGHT','S4_IS_PEDESTRIAN_INVOLVED', 'S4_IS_BICYCLIST_INVOLVED'   ]]"
   ]
  },
  {
   "cell_type": "code",
   "execution_count": 111,
   "id": "65fbd43d",
   "metadata": {},
   "outputs": [],
   "source": [
    "event_df.to_csv('event_df.csv',index=False)"
   ]
  },
  {
   "cell_type": "code",
   "execution_count": 112,
   "id": "ad1c0bb4",
   "metadata": {},
   "outputs": [],
   "source": [
    "driver_df.to_csv('driver_df.csv',index=False)"
   ]
  },
  {
   "cell_type": "code",
   "execution_count": 113,
   "id": "35f7d20c",
   "metadata": {},
   "outputs": [],
   "source": [
    "vehicle_df.to_csv('vehicle_df.csv',index=False)"
   ]
  },
  {
   "cell_type": "code",
   "execution_count": null,
   "id": "02cc0c9d",
   "metadata": {},
   "outputs": [],
   "source": []
  }
 ],
 "metadata": {
  "kernelspec": {
   "display_name": "Python 3 (ipykernel)",
   "language": "python",
   "name": "python3"
  },
  "language_info": {
   "codemirror_mode": {
    "name": "ipython",
    "version": 3
   },
   "file_extension": ".py",
   "mimetype": "text/x-python",
   "name": "python",
   "nbconvert_exporter": "python",
   "pygments_lexer": "ipython3",
   "version": "3.9.13"
  }
 },
 "nbformat": 4,
 "nbformat_minor": 5
}
